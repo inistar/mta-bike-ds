{
 "cells": [
  {
   "cell_type": "code",
   "execution_count": 1,
   "metadata": {},
   "outputs": [],
   "source": [
    "import pandas as pd\n",
    "import numpy as np\n",
    "\n",
    "import geopandas as gpd\n",
    "from shapely.geometry import Point\n",
    "import rtree\n",
    "import pickle\n",
    "\n",
    "import matplotlib.pyplot as plt\n",
    "from sklearn.model_selection import train_test_split\n",
    "from sklearn.ensemble import RandomForestRegressor\n",
    "from sklearn.metrics import mean_squared_error\n",
    "\n",
    "import secret_key\n",
    "\n",
    "pd.set_option('display.max_rows', 500)\n",
    "pd.set_option('display.max_columns', 500)"
   ]
  },
  {
   "cell_type": "code",
   "execution_count": 2,
   "metadata": {},
   "outputs": [],
   "source": [
    "mta_df = pd.read_csv(\"data/mta_turnstile/turnstile_170107.txt\")\n",
    "mta_df = mta_df.append(pd.read_csv(\"data/mta_turnstile/turnstile_170114.txt\"))\n",
    "mta_df = mta_df.append(pd.read_csv(\"data/mta_turnstile/turnstile_170121.txt\"))\n",
    "mta_df = mta_df.append(pd.read_csv(\"data/mta_turnstile/turnstile_170128.txt\"))"
   ]
  },
  {
   "cell_type": "code",
   "execution_count": 3,
   "metadata": {},
   "outputs": [
    {
     "data": {
      "text/html": [
       "<div>\n",
       "<style scoped>\n",
       "    .dataframe tbody tr th:only-of-type {\n",
       "        vertical-align: middle;\n",
       "    }\n",
       "\n",
       "    .dataframe tbody tr th {\n",
       "        vertical-align: top;\n",
       "    }\n",
       "\n",
       "    .dataframe thead th {\n",
       "        text-align: right;\n",
       "    }\n",
       "</style>\n",
       "<table border=\"1\" class=\"dataframe\">\n",
       "  <thead>\n",
       "    <tr style=\"text-align: right;\">\n",
       "      <th></th>\n",
       "      <th>C/A</th>\n",
       "      <th>UNIT</th>\n",
       "      <th>SCP</th>\n",
       "      <th>STATION</th>\n",
       "      <th>LINENAME</th>\n",
       "      <th>DIVISION</th>\n",
       "      <th>DATE</th>\n",
       "      <th>TIME</th>\n",
       "      <th>DESC</th>\n",
       "      <th>ENTRIES</th>\n",
       "      <th>EXITS</th>\n",
       "    </tr>\n",
       "  </thead>\n",
       "  <tbody>\n",
       "    <tr>\n",
       "      <th>0</th>\n",
       "      <td>A002</td>\n",
       "      <td>R051</td>\n",
       "      <td>02-00-00</td>\n",
       "      <td>59 ST</td>\n",
       "      <td>NQR456W</td>\n",
       "      <td>BMT</td>\n",
       "      <td>12/31/2016</td>\n",
       "      <td>03:00:00</td>\n",
       "      <td>REGULAR</td>\n",
       "      <td>5991546</td>\n",
       "      <td>2028378</td>\n",
       "    </tr>\n",
       "    <tr>\n",
       "      <th>1</th>\n",
       "      <td>A002</td>\n",
       "      <td>R051</td>\n",
       "      <td>02-00-00</td>\n",
       "      <td>59 ST</td>\n",
       "      <td>NQR456W</td>\n",
       "      <td>BMT</td>\n",
       "      <td>12/31/2016</td>\n",
       "      <td>07:00:00</td>\n",
       "      <td>REGULAR</td>\n",
       "      <td>5991565</td>\n",
       "      <td>2028389</td>\n",
       "    </tr>\n",
       "    <tr>\n",
       "      <th>2</th>\n",
       "      <td>A002</td>\n",
       "      <td>R051</td>\n",
       "      <td>02-00-00</td>\n",
       "      <td>59 ST</td>\n",
       "      <td>NQR456W</td>\n",
       "      <td>BMT</td>\n",
       "      <td>12/31/2016</td>\n",
       "      <td>11:00:00</td>\n",
       "      <td>REGULAR</td>\n",
       "      <td>5991644</td>\n",
       "      <td>2028441</td>\n",
       "    </tr>\n",
       "    <tr>\n",
       "      <th>3</th>\n",
       "      <td>A002</td>\n",
       "      <td>R051</td>\n",
       "      <td>02-00-00</td>\n",
       "      <td>59 ST</td>\n",
       "      <td>NQR456W</td>\n",
       "      <td>BMT</td>\n",
       "      <td>12/31/2016</td>\n",
       "      <td>15:00:00</td>\n",
       "      <td>REGULAR</td>\n",
       "      <td>5991971</td>\n",
       "      <td>2028502</td>\n",
       "    </tr>\n",
       "    <tr>\n",
       "      <th>4</th>\n",
       "      <td>A002</td>\n",
       "      <td>R051</td>\n",
       "      <td>02-00-00</td>\n",
       "      <td>59 ST</td>\n",
       "      <td>NQR456W</td>\n",
       "      <td>BMT</td>\n",
       "      <td>12/31/2016</td>\n",
       "      <td>19:00:00</td>\n",
       "      <td>REGULAR</td>\n",
       "      <td>5992418</td>\n",
       "      <td>2028543</td>\n",
       "    </tr>\n",
       "  </tbody>\n",
       "</table>\n",
       "</div>"
      ],
      "text/plain": [
       "    C/A  UNIT       SCP STATION LINENAME DIVISION        DATE      TIME  \\\n",
       "0  A002  R051  02-00-00   59 ST  NQR456W      BMT  12/31/2016  03:00:00   \n",
       "1  A002  R051  02-00-00   59 ST  NQR456W      BMT  12/31/2016  07:00:00   \n",
       "2  A002  R051  02-00-00   59 ST  NQR456W      BMT  12/31/2016  11:00:00   \n",
       "3  A002  R051  02-00-00   59 ST  NQR456W      BMT  12/31/2016  15:00:00   \n",
       "4  A002  R051  02-00-00   59 ST  NQR456W      BMT  12/31/2016  19:00:00   \n",
       "\n",
       "      DESC  ENTRIES  \\\n",
       "0  REGULAR  5991546   \n",
       "1  REGULAR  5991565   \n",
       "2  REGULAR  5991644   \n",
       "3  REGULAR  5991971   \n",
       "4  REGULAR  5992418   \n",
       "\n",
       "   EXITS                                                                 \n",
       "0                                            2028378                     \n",
       "1                                            2028389                     \n",
       "2                                            2028441                     \n",
       "3                                            2028502                     \n",
       "4                                            2028543                     "
      ]
     },
     "execution_count": 3,
     "metadata": {},
     "output_type": "execute_result"
    }
   ],
   "source": [
    "mta_df.head()"
   ]
  },
  {
   "cell_type": "code",
   "execution_count": 4,
   "metadata": {},
   "outputs": [],
   "source": [
    "mta_df['DATE'] = pd.to_datetime(mta_df.DATE)"
   ]
  },
  {
   "cell_type": "code",
   "execution_count": 5,
   "metadata": {},
   "outputs": [],
   "source": [
    "mta_df['month'] = mta_df.DATE.dt.month"
   ]
  },
  {
   "cell_type": "code",
   "execution_count": 6,
   "metadata": {},
   "outputs": [],
   "source": [
    "mta_df['year'] = mta_df.DATE.dt.year"
   ]
  },
  {
   "cell_type": "code",
   "execution_count": 7,
   "metadata": {},
   "outputs": [],
   "source": [
    "mta_df['day_of_week'] = mta_df.DATE.dt.weekday_name"
   ]
  },
  {
   "cell_type": "code",
   "execution_count": null,
   "metadata": {},
   "outputs": [],
   "source": []
  },
  {
   "cell_type": "code",
   "execution_count": 8,
   "metadata": {},
   "outputs": [
    {
     "data": {
      "text/plain": [
       "Tuesday      111687\n",
       "Wednesday    111432\n",
       "Friday       110914\n",
       "Thursday     110841\n",
       "Monday       110819\n",
       "Sunday       110728\n",
       "Saturday     110682\n",
       "Name: day_of_week, dtype: int64"
      ]
     },
     "execution_count": 8,
     "metadata": {},
     "output_type": "execute_result"
    }
   ],
   "source": [
    "mta_df.day_of_week.value_counts()"
   ]
  },
  {
   "cell_type": "code",
   "execution_count": 12,
   "metadata": {},
   "outputs": [
    {
     "data": {
      "text/html": [
       "<div>\n",
       "<style scoped>\n",
       "    .dataframe tbody tr th:only-of-type {\n",
       "        vertical-align: middle;\n",
       "    }\n",
       "\n",
       "    .dataframe tbody tr th {\n",
       "        vertical-align: top;\n",
       "    }\n",
       "\n",
       "    .dataframe thead th {\n",
       "        text-align: right;\n",
       "    }\n",
       "</style>\n",
       "<table border=\"1\" class=\"dataframe\">\n",
       "  <thead>\n",
       "    <tr style=\"text-align: right;\">\n",
       "      <th></th>\n",
       "      <th>C/A</th>\n",
       "      <th>UNIT</th>\n",
       "      <th>SCP</th>\n",
       "      <th>STATION</th>\n",
       "      <th>LINENAME</th>\n",
       "      <th>DIVISION</th>\n",
       "      <th>DATE</th>\n",
       "      <th>TIME</th>\n",
       "      <th>DESC</th>\n",
       "      <th>ENTRIES</th>\n",
       "      <th>EXITS</th>\n",
       "      <th>month</th>\n",
       "      <th>year</th>\n",
       "      <th>day_of_week</th>\n",
       "    </tr>\n",
       "  </thead>\n",
       "  <tbody>\n",
       "    <tr>\n",
       "      <th>38893</th>\n",
       "      <td>K017</td>\n",
       "      <td>R401</td>\n",
       "      <td>00-00-00</td>\n",
       "      <td>CENTRAL AV</td>\n",
       "      <td>M</td>\n",
       "      <td>BMT</td>\n",
       "      <td>2016-12-31</td>\n",
       "      <td>00:00:00</td>\n",
       "      <td>REGULAR</td>\n",
       "      <td>507074</td>\n",
       "      <td>1691710</td>\n",
       "      <td>12</td>\n",
       "      <td>2016</td>\n",
       "      <td>Saturday</td>\n",
       "    </tr>\n",
       "    <tr>\n",
       "      <th>38894</th>\n",
       "      <td>K017</td>\n",
       "      <td>R401</td>\n",
       "      <td>00-00-00</td>\n",
       "      <td>CENTRAL AV</td>\n",
       "      <td>M</td>\n",
       "      <td>BMT</td>\n",
       "      <td>2016-12-31</td>\n",
       "      <td>04:00:00</td>\n",
       "      <td>REGULAR</td>\n",
       "      <td>507081</td>\n",
       "      <td>1691803</td>\n",
       "      <td>12</td>\n",
       "      <td>2016</td>\n",
       "      <td>Saturday</td>\n",
       "    </tr>\n",
       "    <tr>\n",
       "      <th>38895</th>\n",
       "      <td>K017</td>\n",
       "      <td>R401</td>\n",
       "      <td>00-00-00</td>\n",
       "      <td>CENTRAL AV</td>\n",
       "      <td>M</td>\n",
       "      <td>BMT</td>\n",
       "      <td>2016-12-31</td>\n",
       "      <td>08:00:00</td>\n",
       "      <td>REGULAR</td>\n",
       "      <td>507099</td>\n",
       "      <td>1691827</td>\n",
       "      <td>12</td>\n",
       "      <td>2016</td>\n",
       "      <td>Saturday</td>\n",
       "    </tr>\n",
       "    <tr>\n",
       "      <th>38896</th>\n",
       "      <td>K017</td>\n",
       "      <td>R401</td>\n",
       "      <td>00-00-00</td>\n",
       "      <td>CENTRAL AV</td>\n",
       "      <td>M</td>\n",
       "      <td>BMT</td>\n",
       "      <td>2016-12-31</td>\n",
       "      <td>12:00:00</td>\n",
       "      <td>REGULAR</td>\n",
       "      <td>507175</td>\n",
       "      <td>1691884</td>\n",
       "      <td>12</td>\n",
       "      <td>2016</td>\n",
       "      <td>Saturday</td>\n",
       "    </tr>\n",
       "    <tr>\n",
       "      <th>38897</th>\n",
       "      <td>K017</td>\n",
       "      <td>R401</td>\n",
       "      <td>00-00-00</td>\n",
       "      <td>CENTRAL AV</td>\n",
       "      <td>M</td>\n",
       "      <td>BMT</td>\n",
       "      <td>2016-12-31</td>\n",
       "      <td>16:00:00</td>\n",
       "      <td>REGULAR</td>\n",
       "      <td>507256</td>\n",
       "      <td>1692008</td>\n",
       "      <td>12</td>\n",
       "      <td>2016</td>\n",
       "      <td>Saturday</td>\n",
       "    </tr>\n",
       "  </tbody>\n",
       "</table>\n",
       "</div>"
      ],
      "text/plain": [
       "        C/A  UNIT       SCP     STATION LINENAME DIVISION       DATE  \\\n",
       "38893  K017  R401  00-00-00  CENTRAL AV        M      BMT 2016-12-31   \n",
       "38894  K017  R401  00-00-00  CENTRAL AV        M      BMT 2016-12-31   \n",
       "38895  K017  R401  00-00-00  CENTRAL AV        M      BMT 2016-12-31   \n",
       "38896  K017  R401  00-00-00  CENTRAL AV        M      BMT 2016-12-31   \n",
       "38897  K017  R401  00-00-00  CENTRAL AV        M      BMT 2016-12-31   \n",
       "\n",
       "           TIME     DESC  ENTRIES  \\\n",
       "38893  00:00:00  REGULAR   507074   \n",
       "38894  04:00:00  REGULAR   507081   \n",
       "38895  08:00:00  REGULAR   507099   \n",
       "38896  12:00:00  REGULAR   507175   \n",
       "38897  16:00:00  REGULAR   507256   \n",
       "\n",
       "       EXITS                                                                 \\\n",
       "38893                                            1691710                      \n",
       "38894                                            1691803                      \n",
       "38895                                            1691827                      \n",
       "38896                                            1691884                      \n",
       "38897                                            1692008                      \n",
       "\n",
       "       month  year day_of_week  \n",
       "38893     12  2016    Saturday  \n",
       "38894     12  2016    Saturday  \n",
       "38895     12  2016    Saturday  \n",
       "38896     12  2016    Saturday  \n",
       "38897     12  2016    Saturday  "
      ]
     },
     "execution_count": 12,
     "metadata": {},
     "output_type": "execute_result"
    }
   ],
   "source": [
    "mta_df[mta_df.STATION == 'CENTRAL AV'].head()"
   ]
  },
  {
   "cell_type": "code",
   "execution_count": 23,
   "metadata": {},
   "outputs": [],
   "source": [
    "import requests\n",
    "import json\n",
    "response = requests.get('https://maps.googleapis.com/maps/api/geocode/json?address=103+st+station+new+york+line+1&key='+secret_key.google_api_key)"
   ]
  },
  {
   "cell_type": "code",
   "execution_count": 24,
   "metadata": {},
   "outputs": [],
   "source": [
    "#response.json()[['results']\n",
    "test = json.loads(response.text)"
   ]
  },
  {
   "cell_type": "code",
   "execution_count": 27,
   "metadata": {},
   "outputs": [
    {
     "data": {
      "text/plain": [
       "(40.7902308, -73.9477564)"
      ]
     },
     "execution_count": 27,
     "metadata": {},
     "output_type": "execute_result"
    }
   ],
   "source": [
    "test['results'][0]['geometry']['location']['lat'], test['results'][0]['geometry']['location']['lng']"
   ]
  },
  {
   "cell_type": "code",
   "execution_count": 28,
   "metadata": {},
   "outputs": [],
   "source": [
    "mta_loc = mta_df.groupby(['STATION', 'LINENAME', 'DIVISION'])['UNIT'].count().reset_index()"
   ]
  },
  {
   "cell_type": "code",
   "execution_count": null,
   "metadata": {},
   "outputs": [],
   "source": []
  },
  {
   "cell_type": "code",
   "execution_count": null,
   "metadata": {},
   "outputs": [],
   "source": []
  },
  {
   "cell_type": "code",
   "execution_count": 31,
   "metadata": {},
   "outputs": [],
   "source": [
    "mta_loc = mta_loc.drop('UNIT', axis=1)"
   ]
  },
  {
   "cell_type": "code",
   "execution_count": 35,
   "metadata": {},
   "outputs": [
    {
     "data": {
      "text/html": [
       "<div>\n",
       "<style scoped>\n",
       "    .dataframe tbody tr th:only-of-type {\n",
       "        vertical-align: middle;\n",
       "    }\n",
       "\n",
       "    .dataframe tbody tr th {\n",
       "        vertical-align: top;\n",
       "    }\n",
       "\n",
       "    .dataframe thead th {\n",
       "        text-align: right;\n",
       "    }\n",
       "</style>\n",
       "<table border=\"1\" class=\"dataframe\">\n",
       "  <thead>\n",
       "    <tr style=\"text-align: right;\">\n",
       "      <th></th>\n",
       "      <th>STATION</th>\n",
       "      <th>LINENAME</th>\n",
       "      <th>DIVISION</th>\n",
       "    </tr>\n",
       "  </thead>\n",
       "  <tbody>\n",
       "    <tr>\n",
       "      <th>0</th>\n",
       "      <td>1 AV</td>\n",
       "      <td>L</td>\n",
       "      <td>BMT</td>\n",
       "    </tr>\n",
       "    <tr>\n",
       "      <th>1</th>\n",
       "      <td>103 ST</td>\n",
       "      <td>1</td>\n",
       "      <td>IRT</td>\n",
       "    </tr>\n",
       "    <tr>\n",
       "      <th>2</th>\n",
       "      <td>103 ST</td>\n",
       "      <td>6</td>\n",
       "      <td>IRT</td>\n",
       "    </tr>\n",
       "    <tr>\n",
       "      <th>3</th>\n",
       "      <td>103 ST</td>\n",
       "      <td>BC</td>\n",
       "      <td>IND</td>\n",
       "    </tr>\n",
       "    <tr>\n",
       "      <th>4</th>\n",
       "      <td>103 ST-CORONA</td>\n",
       "      <td>7</td>\n",
       "      <td>IRT</td>\n",
       "    </tr>\n",
       "  </tbody>\n",
       "</table>\n",
       "</div>"
      ],
      "text/plain": [
       "         STATION LINENAME DIVISION\n",
       "0           1 AV        L      BMT\n",
       "1         103 ST        1      IRT\n",
       "2         103 ST        6      IRT\n",
       "3         103 ST       BC      IND\n",
       "4  103 ST-CORONA        7      IRT"
      ]
     },
     "execution_count": 35,
     "metadata": {},
     "output_type": "execute_result"
    }
   ],
   "source": [
    "mta_loc.head()"
   ]
  },
  {
   "cell_type": "code",
   "execution_count": 53,
   "metadata": {},
   "outputs": [],
   "source": [
    "import time"
   ]
  },
  {
   "cell_type": "code",
   "execution_count": 69,
   "metadata": {},
   "outputs": [
    {
     "name": "stdout",
     "output_type": "stream",
     "text": [
      "111 ST\n",
      "CENTRAL AV\n",
      "HEWES ST\n"
     ]
    }
   ],
   "source": [
    "for index, loc in mta_loc.iterrows():\n",
    "    try:\n",
    "        station = mta_loc.STATION[index]\n",
    "        linename = mta_loc.LINENAME[index]\n",
    "        division = mta_loc.DIVISION[index]\n",
    "\n",
    "        search_query = \"https://maps.googleapis.com/maps/api/geocode/json?address=\"\n",
    "        for word in station.split(\" \"):\n",
    "            search_query += word + '+'\n",
    "\n",
    "        search_query += 'station+' + linename + '+new+york+'\n",
    "        search_query += division + '&key=' + secret_key.google_api_key\n",
    "#         print(search_query)\n",
    "        response = requests.get(search_query)\n",
    "        result = json.loads(response.text)\n",
    "\n",
    "        mta_loc.loc[[index], 'lat'] = result['results'][0]['geometry']['location']['lat']\n",
    "        mta_loc.loc[[index], 'long'] = result['results'][0]['geometry']['location']['lng']\n",
    "    except:\n",
    "        print(mta_loc.STATION[index])\n",
    "    time.sleep(1)\n",
    "        \n",
    "    "
   ]
  },
  {
   "cell_type": "code",
   "execution_count": 96,
   "metadata": {},
   "outputs": [
    {
     "data": {
      "text/html": [
       "<div>\n",
       "<style scoped>\n",
       "    .dataframe tbody tr th:only-of-type {\n",
       "        vertical-align: middle;\n",
       "    }\n",
       "\n",
       "    .dataframe tbody tr th {\n",
       "        vertical-align: top;\n",
       "    }\n",
       "\n",
       "    .dataframe thead th {\n",
       "        text-align: right;\n",
       "    }\n",
       "</style>\n",
       "<table border=\"1\" class=\"dataframe\">\n",
       "  <thead>\n",
       "    <tr style=\"text-align: right;\">\n",
       "      <th></th>\n",
       "      <th>STATION</th>\n",
       "      <th>LINENAME</th>\n",
       "      <th>DIVISION</th>\n",
       "      <th>lat</th>\n",
       "      <th>long</th>\n",
       "    </tr>\n",
       "  </thead>\n",
       "  <tbody>\n",
       "    <tr>\n",
       "      <th>328</th>\n",
       "      <td>HEWES ST</td>\n",
       "      <td>JM</td>\n",
       "      <td>BMT</td>\n",
       "      <td>NaN</td>\n",
       "      <td>-73.952892</td>\n",
       "    </tr>\n",
       "  </tbody>\n",
       "</table>\n",
       "</div>"
      ],
      "text/plain": [
       "      STATION LINENAME DIVISION  lat       long\n",
       "328  HEWES ST       JM      BMT  NaN -73.952892"
      ]
     },
     "execution_count": 96,
     "metadata": {},
     "output_type": "execute_result"
    }
   ],
   "source": [
    "mta_loc[mta_loc.STATION == 'HEWES ST']"
   ]
  },
  {
   "cell_type": "code",
   "execution_count": 97,
   "metadata": {},
   "outputs": [
    {
     "name": "stderr",
     "output_type": "stream",
     "text": [
      "/home/iniyavan/anaconda3/lib/python3.6/site-packages/ipykernel_launcher.py:1: SettingWithCopyWarning: \n",
      "A value is trying to be set on a copy of a slice from a DataFrame\n",
      "\n",
      "See the caveats in the documentation: http://pandas.pydata.org/pandas-docs/stable/indexing.html#indexing-view-versus-copy\n",
      "  \"\"\"Entry point for launching an IPython kernel.\n"
     ]
    }
   ],
   "source": [
    "mta_loc['lat'][328] = 40.706693"
   ]
  },
  {
   "cell_type": "code",
   "execution_count": 95,
   "metadata": {},
   "outputs": [
    {
     "name": "stderr",
     "output_type": "stream",
     "text": [
      "/home/iniyavan/anaconda3/lib/python3.6/site-packages/ipykernel_launcher.py:1: SettingWithCopyWarning: \n",
      "A value is trying to be set on a copy of a slice from a DataFrame\n",
      "\n",
      "See the caveats in the documentation: http://pandas.pydata.org/pandas-docs/stable/indexing.html#indexing-view-versus-copy\n",
      "  \"\"\"Entry point for launching an IPython kernel.\n"
     ]
    }
   ],
   "source": [
    "mta_loc['long'][328] = -73.952892"
   ]
  },
  {
   "cell_type": "code",
   "execution_count": 100,
   "metadata": {},
   "outputs": [
    {
     "data": {
      "text/plain": [
       "-73.927481"
      ]
     },
     "execution_count": 100,
     "metadata": {},
     "output_type": "execute_result"
    }
   ],
   "source": [
    "mta_loc['long'][244]"
   ]
  },
  {
   "cell_type": "code",
   "execution_count": null,
   "metadata": {},
   "outputs": [],
   "source": []
  }
 ],
 "metadata": {
  "kernelspec": {
   "display_name": "Python 3",
   "language": "python",
   "name": "python3"
  },
  "language_info": {
   "codemirror_mode": {
    "name": "ipython",
    "version": 3
   },
   "file_extension": ".py",
   "mimetype": "text/x-python",
   "name": "python",
   "nbconvert_exporter": "python",
   "pygments_lexer": "ipython3",
   "version": "3.6.4"
  }
 },
 "nbformat": 4,
 "nbformat_minor": 2
}
